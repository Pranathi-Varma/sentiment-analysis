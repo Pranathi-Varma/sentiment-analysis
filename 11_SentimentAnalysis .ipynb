{
  "nbformat": 4,
  "nbformat_minor": 0,
  "metadata": {
    "colab": {
      "provenance": []
    },
    "kernelspec": {
      "name": "python3",
      "display_name": "Python 3"
    }
  },
  "cells": [
    {
      "cell_type": "markdown",
      "metadata": {
        "id": "yNhL3Dc5x986"
      },
      "source": [
        "#Sentiment Analysis\n",
        "\n",
        "Sentiment analysis (a.k.a opinion mining), in its simple form, identifies whether a piece of text has negative or positive emotion.\n",
        "Sentiment analysis is a supervised learning task, where our algorithm learns how to classify text as positive/negative from labeled textual data.\n",
        "There can be more than two sentiments (e.g., neutral, happy, etc.), in which case we deal with a text classification task with multiple outcomes.\n",
        "\n",
        "Sentiment analysis is used in various business applications involving textual data, such as performance monitoring (based on user feedback), assessing brand reputation, market research for product launches.\n"
      ]
    },
    {
      "cell_type": "markdown",
      "metadata": {
        "id": "BOuhbg-XG312"
      },
      "source": [
        "## Scenario\n",
        "We will use a dataset on restaurant reviews for this exercise. The\n",
        "sentiment for each review has been manually labeled for this dataset: positive=1, negative=0."
      ]
    },
    {
      "cell_type": "code",
      "metadata": {
        "id": "vRbey1H5wVQN",
        "colab": {
          "base_uri": "https://localhost:8080/",
          "height": 143
        },
        "outputId": "ba1aaf83-b534-477c-e391-63eb12fd5f81"
      },
      "source": [
        "# importing restaurant reviews dataset\n",
        "import numpy as np\n",
        "import pandas as pd\n",
        "df=pd.read_csv('Restaurant_Reviews.tsv',delimiter=\"\\t\")\n",
        "df.head(3)"
      ],
      "execution_count": 1,
      "outputs": [
        {
          "output_type": "execute_result",
          "data": {
            "text/plain": [
              "                                      Review  Sentiment\n",
              "0                   Wow... Loved this place.          1\n",
              "1                         Crust is not good.          0\n",
              "2  Not tasty and the texture was just nasty.          0"
            ],
            "text/html": [
              "\n",
              "  <div id=\"df-96d58f45-0935-417f-b360-5c82e9522a96\" class=\"colab-df-container\">\n",
              "    <div>\n",
              "<style scoped>\n",
              "    .dataframe tbody tr th:only-of-type {\n",
              "        vertical-align: middle;\n",
              "    }\n",
              "\n",
              "    .dataframe tbody tr th {\n",
              "        vertical-align: top;\n",
              "    }\n",
              "\n",
              "    .dataframe thead th {\n",
              "        text-align: right;\n",
              "    }\n",
              "</style>\n",
              "<table border=\"1\" class=\"dataframe\">\n",
              "  <thead>\n",
              "    <tr style=\"text-align: right;\">\n",
              "      <th></th>\n",
              "      <th>Review</th>\n",
              "      <th>Sentiment</th>\n",
              "    </tr>\n",
              "  </thead>\n",
              "  <tbody>\n",
              "    <tr>\n",
              "      <th>0</th>\n",
              "      <td>Wow... Loved this place.</td>\n",
              "      <td>1</td>\n",
              "    </tr>\n",
              "    <tr>\n",
              "      <th>1</th>\n",
              "      <td>Crust is not good.</td>\n",
              "      <td>0</td>\n",
              "    </tr>\n",
              "    <tr>\n",
              "      <th>2</th>\n",
              "      <td>Not tasty and the texture was just nasty.</td>\n",
              "      <td>0</td>\n",
              "    </tr>\n",
              "  </tbody>\n",
              "</table>\n",
              "</div>\n",
              "    <div class=\"colab-df-buttons\">\n",
              "\n",
              "  <div class=\"colab-df-container\">\n",
              "    <button class=\"colab-df-convert\" onclick=\"convertToInteractive('df-96d58f45-0935-417f-b360-5c82e9522a96')\"\n",
              "            title=\"Convert this dataframe to an interactive table.\"\n",
              "            style=\"display:none;\">\n",
              "\n",
              "  <svg xmlns=\"http://www.w3.org/2000/svg\" height=\"24px\" viewBox=\"0 -960 960 960\">\n",
              "    <path d=\"M120-120v-720h720v720H120Zm60-500h600v-160H180v160Zm220 220h160v-160H400v160Zm0 220h160v-160H400v160ZM180-400h160v-160H180v160Zm440 0h160v-160H620v160ZM180-180h160v-160H180v160Zm440 0h160v-160H620v160Z\"/>\n",
              "  </svg>\n",
              "    </button>\n",
              "\n",
              "  <style>\n",
              "    .colab-df-container {\n",
              "      display:flex;\n",
              "      gap: 12px;\n",
              "    }\n",
              "\n",
              "    .colab-df-convert {\n",
              "      background-color: #E8F0FE;\n",
              "      border: none;\n",
              "      border-radius: 50%;\n",
              "      cursor: pointer;\n",
              "      display: none;\n",
              "      fill: #1967D2;\n",
              "      height: 32px;\n",
              "      padding: 0 0 0 0;\n",
              "      width: 32px;\n",
              "    }\n",
              "\n",
              "    .colab-df-convert:hover {\n",
              "      background-color: #E2EBFA;\n",
              "      box-shadow: 0px 1px 2px rgba(60, 64, 67, 0.3), 0px 1px 3px 1px rgba(60, 64, 67, 0.15);\n",
              "      fill: #174EA6;\n",
              "    }\n",
              "\n",
              "    .colab-df-buttons div {\n",
              "      margin-bottom: 4px;\n",
              "    }\n",
              "\n",
              "    [theme=dark] .colab-df-convert {\n",
              "      background-color: #3B4455;\n",
              "      fill: #D2E3FC;\n",
              "    }\n",
              "\n",
              "    [theme=dark] .colab-df-convert:hover {\n",
              "      background-color: #434B5C;\n",
              "      box-shadow: 0px 1px 3px 1px rgba(0, 0, 0, 0.15);\n",
              "      filter: drop-shadow(0px 1px 2px rgba(0, 0, 0, 0.3));\n",
              "      fill: #FFFFFF;\n",
              "    }\n",
              "  </style>\n",
              "\n",
              "    <script>\n",
              "      const buttonEl =\n",
              "        document.querySelector('#df-96d58f45-0935-417f-b360-5c82e9522a96 button.colab-df-convert');\n",
              "      buttonEl.style.display =\n",
              "        google.colab.kernel.accessAllowed ? 'block' : 'none';\n",
              "\n",
              "      async function convertToInteractive(key) {\n",
              "        const element = document.querySelector('#df-96d58f45-0935-417f-b360-5c82e9522a96');\n",
              "        const dataTable =\n",
              "          await google.colab.kernel.invokeFunction('convertToInteractive',\n",
              "                                                    [key], {});\n",
              "        if (!dataTable) return;\n",
              "\n",
              "        const docLinkHtml = 'Like what you see? Visit the ' +\n",
              "          '<a target=\"_blank\" href=https://colab.research.google.com/notebooks/data_table.ipynb>data table notebook</a>'\n",
              "          + ' to learn more about interactive tables.';\n",
              "        element.innerHTML = '';\n",
              "        dataTable['output_type'] = 'display_data';\n",
              "        await google.colab.output.renderOutput(dataTable, element);\n",
              "        const docLink = document.createElement('div');\n",
              "        docLink.innerHTML = docLinkHtml;\n",
              "        element.appendChild(docLink);\n",
              "      }\n",
              "    </script>\n",
              "  </div>\n",
              "\n",
              "\n",
              "<div id=\"df-4807315a-086f-40ae-8fa7-30e187d5cf92\">\n",
              "  <button class=\"colab-df-quickchart\" onclick=\"quickchart('df-4807315a-086f-40ae-8fa7-30e187d5cf92')\"\n",
              "            title=\"Suggest charts\"\n",
              "            style=\"display:none;\">\n",
              "\n",
              "<svg xmlns=\"http://www.w3.org/2000/svg\" height=\"24px\"viewBox=\"0 0 24 24\"\n",
              "     width=\"24px\">\n",
              "    <g>\n",
              "        <path d=\"M19 3H5c-1.1 0-2 .9-2 2v14c0 1.1.9 2 2 2h14c1.1 0 2-.9 2-2V5c0-1.1-.9-2-2-2zM9 17H7v-7h2v7zm4 0h-2V7h2v10zm4 0h-2v-4h2v4z\"/>\n",
              "    </g>\n",
              "</svg>\n",
              "  </button>\n",
              "\n",
              "<style>\n",
              "  .colab-df-quickchart {\n",
              "      --bg-color: #E8F0FE;\n",
              "      --fill-color: #1967D2;\n",
              "      --hover-bg-color: #E2EBFA;\n",
              "      --hover-fill-color: #174EA6;\n",
              "      --disabled-fill-color: #AAA;\n",
              "      --disabled-bg-color: #DDD;\n",
              "  }\n",
              "\n",
              "  [theme=dark] .colab-df-quickchart {\n",
              "      --bg-color: #3B4455;\n",
              "      --fill-color: #D2E3FC;\n",
              "      --hover-bg-color: #434B5C;\n",
              "      --hover-fill-color: #FFFFFF;\n",
              "      --disabled-bg-color: #3B4455;\n",
              "      --disabled-fill-color: #666;\n",
              "  }\n",
              "\n",
              "  .colab-df-quickchart {\n",
              "    background-color: var(--bg-color);\n",
              "    border: none;\n",
              "    border-radius: 50%;\n",
              "    cursor: pointer;\n",
              "    display: none;\n",
              "    fill: var(--fill-color);\n",
              "    height: 32px;\n",
              "    padding: 0;\n",
              "    width: 32px;\n",
              "  }\n",
              "\n",
              "  .colab-df-quickchart:hover {\n",
              "    background-color: var(--hover-bg-color);\n",
              "    box-shadow: 0 1px 2px rgba(60, 64, 67, 0.3), 0 1px 3px 1px rgba(60, 64, 67, 0.15);\n",
              "    fill: var(--button-hover-fill-color);\n",
              "  }\n",
              "\n",
              "  .colab-df-quickchart-complete:disabled,\n",
              "  .colab-df-quickchart-complete:disabled:hover {\n",
              "    background-color: var(--disabled-bg-color);\n",
              "    fill: var(--disabled-fill-color);\n",
              "    box-shadow: none;\n",
              "  }\n",
              "\n",
              "  .colab-df-spinner {\n",
              "    border: 2px solid var(--fill-color);\n",
              "    border-color: transparent;\n",
              "    border-bottom-color: var(--fill-color);\n",
              "    animation:\n",
              "      spin 1s steps(1) infinite;\n",
              "  }\n",
              "\n",
              "  @keyframes spin {\n",
              "    0% {\n",
              "      border-color: transparent;\n",
              "      border-bottom-color: var(--fill-color);\n",
              "      border-left-color: var(--fill-color);\n",
              "    }\n",
              "    20% {\n",
              "      border-color: transparent;\n",
              "      border-left-color: var(--fill-color);\n",
              "      border-top-color: var(--fill-color);\n",
              "    }\n",
              "    30% {\n",
              "      border-color: transparent;\n",
              "      border-left-color: var(--fill-color);\n",
              "      border-top-color: var(--fill-color);\n",
              "      border-right-color: var(--fill-color);\n",
              "    }\n",
              "    40% {\n",
              "      border-color: transparent;\n",
              "      border-right-color: var(--fill-color);\n",
              "      border-top-color: var(--fill-color);\n",
              "    }\n",
              "    60% {\n",
              "      border-color: transparent;\n",
              "      border-right-color: var(--fill-color);\n",
              "    }\n",
              "    80% {\n",
              "      border-color: transparent;\n",
              "      border-right-color: var(--fill-color);\n",
              "      border-bottom-color: var(--fill-color);\n",
              "    }\n",
              "    90% {\n",
              "      border-color: transparent;\n",
              "      border-bottom-color: var(--fill-color);\n",
              "    }\n",
              "  }\n",
              "</style>\n",
              "\n",
              "  <script>\n",
              "    async function quickchart(key) {\n",
              "      const quickchartButtonEl =\n",
              "        document.querySelector('#' + key + ' button');\n",
              "      quickchartButtonEl.disabled = true;  // To prevent multiple clicks.\n",
              "      quickchartButtonEl.classList.add('colab-df-spinner');\n",
              "      try {\n",
              "        const charts = await google.colab.kernel.invokeFunction(\n",
              "            'suggestCharts', [key], {});\n",
              "      } catch (error) {\n",
              "        console.error('Error during call to suggestCharts:', error);\n",
              "      }\n",
              "      quickchartButtonEl.classList.remove('colab-df-spinner');\n",
              "      quickchartButtonEl.classList.add('colab-df-quickchart-complete');\n",
              "    }\n",
              "    (() => {\n",
              "      let quickchartButtonEl =\n",
              "        document.querySelector('#df-4807315a-086f-40ae-8fa7-30e187d5cf92 button');\n",
              "      quickchartButtonEl.style.display =\n",
              "        google.colab.kernel.accessAllowed ? 'block' : 'none';\n",
              "    })();\n",
              "  </script>\n",
              "</div>\n",
              "    </div>\n",
              "  </div>\n"
            ]
          },
          "metadata": {},
          "execution_count": 1
        }
      ]
    },
    {
      "cell_type": "code",
      "metadata": {
        "id": "rDKrAAeNw2IO",
        "colab": {
          "base_uri": "https://localhost:8080/"
        },
        "outputId": "20948162-0022-4d58-9c6a-0ba50588b570"
      },
      "source": [
        "X=df.Review\n",
        "Y=df.Sentiment\n",
        "X.shape"
      ],
      "execution_count": 2,
      "outputs": [
        {
          "output_type": "execute_result",
          "data": {
            "text/plain": [
              "(1000,)"
            ]
          },
          "metadata": {},
          "execution_count": 2
        }
      ]
    },
    {
      "cell_type": "markdown",
      "metadata": {
        "id": "6jL5tOfMb4dA"
      },
      "source": [
        "#Sentiment Analysis using BOW approach and ML models\n",
        "We will first use the bag-of-words approach for text processing and classic ML models such as Logistic Regression."
      ]
    },
    {
      "cell_type": "code",
      "source": [
        "X"
      ],
      "metadata": {
        "colab": {
          "base_uri": "https://localhost:8080/"
        },
        "id": "kNs_fz_qHzbE",
        "outputId": "c3e89f7d-7334-4f60-9b5d-819dadac5e70"
      },
      "execution_count": 3,
      "outputs": [
        {
          "output_type": "execute_result",
          "data": {
            "text/plain": [
              "0                               Wow... Loved this place.\n",
              "1                                     Crust is not good.\n",
              "2              Not tasty and the texture was just nasty.\n",
              "3      Stopped by during the late May bank holiday  o...\n",
              "4      The selection on the menu was great and so wer...\n",
              "                             ...                        \n",
              "995    I think food should have flavor and texture an...\n",
              "996                             Appetite instantly gone.\n",
              "997    Overall I was not impressed and would not go b...\n",
              "998    The whole experience was underwhelming, and I ...\n",
              "999    Then, as if I hadn't wasted enough of my life ...\n",
              "Name: Review, Length: 1000, dtype: object"
            ]
          },
          "metadata": {},
          "execution_count": 3
        }
      ]
    },
    {
      "cell_type": "markdown",
      "metadata": {
        "id": "vsc8TYtw_dPO"
      },
      "source": [
        "## Text pre-processing\n",
        "\n",
        "First, we need to pre-process the text data.\n",
        "We use another library this time for the pre-rocessing steps.\n",
        "\n",
        "The *TfidfVectorizer* function lower-cases all words, removes punctuations and stopwords, tokenizes the documents, and derives the tf-idf document-term matrix.\n",
        "When we fit it on our corpus it also derives the vocabulary.\n"
      ]
    },
    {
      "cell_type": "code",
      "metadata": {
        "id": "RdHnWcohKpmg",
        "colab": {
          "base_uri": "https://localhost:8080/"
        },
        "outputId": "27fa97c2-1a99-47df-c702-ab1ac503a2f9"
      },
      "source": [
        "from sklearn.feature_extraction.text import TfidfVectorizer\n",
        "# to include n-grams, change the ngram_range below\n",
        "tfidf = TfidfVectorizer(min_df=1, ngram_range=(1, 1), stop_words='english',sublinear_tf=True)\n",
        "X_tfidf = tfidf.fit_transform(X).toarray()\n",
        "X_tfidf.shape"
      ],
      "execution_count": 4,
      "outputs": [
        {
          "output_type": "execute_result",
          "data": {
            "text/plain": [
              "(1000, 1820)"
            ]
          },
          "metadata": {},
          "execution_count": 4
        }
      ]
    },
    {
      "cell_type": "code",
      "metadata": {
        "id": "TydZBcjzVbjz",
        "colab": {
          "base_uri": "https://localhost:8080/"
        },
        "outputId": "5c60776c-17a0-452b-a72d-9dbc1fde4d28"
      },
      "source": [
        "# Let's take a look at a review and its tokens from the tf-idf matrix\n",
        "print(X[17])\n",
        "tfidf.inverse_transform(np.reshape(X_tfidf[17],(1,-1)))"
      ],
      "execution_count": 5,
      "outputs": [
        {
          "output_type": "stream",
          "name": "stdout",
          "text": [
            "Waitress was a little slow in service.\n"
          ]
        },
        {
          "output_type": "execute_result",
          "data": {
            "text/plain": [
              "[array(['little', 'service', 'slow', 'waitress'], dtype='<U17')]"
            ]
          },
          "metadata": {},
          "execution_count": 5
        }
      ]
    },
    {
      "cell_type": "code",
      "metadata": {
        "id": "QkVycVCK7yXf",
        "colab": {
          "base_uri": "https://localhost:8080/"
        },
        "outputId": "ee231357-e870-4c19-831c-a07bc719f1eb"
      },
      "source": [
        "# number of tokens in each document (review) of our corpus\n",
        "num_tokens = [np.count_nonzero(tokens) for tokens in X_tfidf]\n",
        "num_tokens[17]"
      ],
      "execution_count": 6,
      "outputs": [
        {
          "output_type": "execute_result",
          "data": {
            "text/plain": [
              "4"
            ]
          },
          "metadata": {},
          "execution_count": 6
        }
      ]
    },
    {
      "cell_type": "code",
      "metadata": {
        "id": "9q339lNipT29",
        "colab": {
          "base_uri": "https://localhost:8080/"
        },
        "outputId": "7323405f-00af-4e23-8cce-7549fbf4877a"
      },
      "source": [
        "# number of words in our vocabulary\n",
        "num_words=len(tfidf.vocabulary_)\n",
        "num_words"
      ],
      "execution_count": 7,
      "outputs": [
        {
          "output_type": "execute_result",
          "data": {
            "text/plain": [
              "1820"
            ]
          },
          "metadata": {},
          "execution_count": 7
        }
      ]
    },
    {
      "cell_type": "markdown",
      "metadata": {
        "id": "oiovQh8Ii1ja"
      },
      "source": [
        "## Split the data into test/train\n",
        "We split the tranformed data (i.e, the tf-idf doc-term matrix) into testing and training set. I keep a small part for the testing set here."
      ]
    },
    {
      "cell_type": "code",
      "metadata": {
        "id": "VSuOFzlUi1Ah"
      },
      "source": [
        "from sklearn.model_selection import train_test_split\n",
        "X_train, X_test, y_train, y_test = train_test_split(X_tfidf, Y, test_size=0.20,random_state=123)"
      ],
      "execution_count": 8,
      "outputs": []
    },
    {
      "cell_type": "markdown",
      "metadata": {
        "id": "vEf8fk0eIJx2"
      },
      "source": [
        "## ML models for text classification\n",
        "Our outcome is binary (positive/negative), so we will try Logistic Regression, Naive Bayes, and multinomial Naive Bayes (good choice for text classification with multiple outcomes).\n",
        "\n",
        "We train all these models using k-fold Cross validation on the training set (X_train).\n",
        "For each run in our k-fold CV, X_train is split into a training and validation set. We will use the testing set (X_test) in the next part to evaluate the selected model.\n",
        "\n",
        "For more details on *Multinomial Naive Bayes* and its comparison to Naive Bayes, see https://en.wikipedia.org/wiki/Naive_Bayes_classifier#Multinomial_naive_Bayes and\n",
        "https://stats.stackexchange.com/questions/33185/difference-between-naive-bayes-multinomial-naive-bayes"
      ]
    },
    {
      "cell_type": "code",
      "metadata": {
        "id": "wzyv9GiZKZ3L",
        "colab": {
          "base_uri": "https://localhost:8080/",
          "height": 530
        },
        "outputId": "3ec98407-1f68-4c12-b869-cd22a36942ba"
      },
      "source": [
        "#import warnings\n",
        "#warnings.filterwarnings('ignore')\n",
        "import matplotlib.pyplot as plt\n",
        "from sklearn import model_selection\n",
        "from sklearn.linear_model import LogisticRegression\n",
        "from sklearn.naive_bayes import GaussianNB\n",
        "from sklearn.naive_bayes import MultinomialNB\n",
        "#from sklearn.svm import SVC\n",
        "\n",
        "# prepare models\n",
        "models = []\n",
        "models.append(('LogisticReg', LogisticRegression()))\n",
        "models.append(('NaiveBayes', GaussianNB()))\n",
        "models.append(('MultinomialNB', MultinomialNB()))\n",
        "#models.append(('SVM', SVC()))\n",
        "# evaluate each model in turn\n",
        "results = []\n",
        "names = []\n",
        "scoring = 'accuracy' #metric we want to compare\n",
        "\n",
        "for name, model in models:\n",
        "\tkfold = model_selection.KFold(n_splits=5,shuffle=True, random_state=0)\n",
        " #use X_tfidf, Y  in following line to run on complete dataset #X_train,y_train\n",
        "\tcv_results = model_selection.cross_val_score(model, X_train, y_train, cv=kfold, scoring=scoring)\n",
        "\tresults.append(cv_results)\n",
        "\tnames.append(name)\n",
        "\tmsg = \"%s: %f (%f)\" % (name, cv_results.mean(), cv_results.std())\n",
        "\tprint(msg)\n",
        "# boxplot model comparison\n",
        "fig = plt.figure()\n",
        "fig.suptitle('Comparing Text classification models: ' +scoring)\n",
        "ax = fig.add_subplot(111)\n",
        "plt.boxplot(results)\n",
        "ax.set_xticklabels(names)\n",
        "plt.show()"
      ],
      "execution_count": 9,
      "outputs": [
        {
          "output_type": "stream",
          "name": "stdout",
          "text": [
            "LogisticReg: 0.771250 (0.034369)\n",
            "NaiveBayes: 0.690000 (0.023914)\n",
            "MultinomialNB: 0.770000 (0.026634)\n"
          ]
        },
        {
          "output_type": "display_data",
          "data": {
            "text/plain": [
              "<Figure size 640x480 with 1 Axes>"
            ],
            "image/png": "[encoded data removed]"
          },
          "metadata": {}
        }
      ]
    },
    {
      "cell_type": "markdown",
      "metadata": {
        "id": "6YULdg3n8NbX"
      },
      "source": [
        "### Question 1\n",
        "Which model has a better accuracy in labeling negative/positive reviews?\n",
        "\n",
        "Logistic Regression model has a better accuracy in labeling negative/positive reviews"
      ]
    },
    {
      "cell_type": "markdown",
      "metadata": {
        "id": "tjGisRNNgpEb"
      },
      "source": [
        "### Question 2\n",
        "Derive the vocabulary again, and this time include 2-grams (go back to Text pre-processing section, include 2-grams and re-run the steps till the above cell). Does it improve predictive performance for any of the above modelsy?  \n",
        "\n",
        "yes,it has improveed predictive performance for the above modelsy."
      ]
    },
    {
      "cell_type": "markdown",
      "metadata": {
        "id": "d2A8US_2cUU0"
      },
      "source": [
        "## Evaluating Logistic Regression classifer  on test data\n",
        "\n",
        "Let's pick the logistic regression classifier and evaluate it on the test set."
      ]
    },
    {
      "cell_type": "code",
      "metadata": {
        "id": "gyZl_wIcaGxx"
      },
      "source": [
        "# Logistic regression\n",
        "model_LogReg = LogisticRegression(random_state=0)\n",
        "model_LogReg.fit(X_train, y_train)\n",
        "\n",
        "#y_pred_proba = model_LogReg.predict_proba(X_test)\n",
        "y_pred = model_LogReg.predict(X_test)"
      ],
      "execution_count": 10,
      "outputs": []
    },
    {
      "cell_type": "code",
      "metadata": {
        "id": "SCHL_7-7ZnLZ",
        "colab": {
          "base_uri": "https://localhost:8080/",
          "height": 856
        },
        "outputId": "ff7e3f37-8157-40d4-ca12-d19eabae4bb1"
      },
      "source": [
        "#!pip install scikit-plot\n",
        "import scikitplot as skplt\n",
        "skplt.metrics.plot_confusion_matrix(y_test, y_pred)\n",
        "\n",
        "from sklearn import metrics\n",
        "print(\"Accuracy:\",metrics.accuracy_score(y_test, y_pred)), #Accuracy\n",
        "print(\"Balanced Acc.:\",metrics.balanced_accuracy_score(y_test, y_pred))"
      ],
      "execution_count": 11,
      "outputs": [
        {
          "output_type": "stream",
          "name": "stdout",
          "text": [
            "Collecting scikit-plot\n",
            "  Downloading scikit_plot-0.3.7-py3-none-any.whl (33 kB)\n",
            "Requirement already satisfied: matplotlib>=1.4.0 in /usr/local/lib/python3.10/dist-packages (from scikit-plot) (3.7.1)\n",
            "Requirement already satisfied: scikit-learn>=0.18 in /usr/local/lib/python3.10/dist-packages (from scikit-plot) (1.2.2)\n",
            "Requirement already satisfied: scipy>=0.9 in /usr/local/lib/python3.10/dist-packages (from scikit-plot) (1.11.3)\n",
            "Requirement already satisfied: joblib>=0.10 in /usr/local/lib/python3.10/dist-packages (from scikit-plot) (1.3.2)\n",
            "Requirement already satisfied: contourpy>=1.0.1 in /usr/local/lib/python3.10/dist-packages (from matplotlib>=1.4.0->scikit-plot) (1.2.0)\n",
            "Requirement already satisfied: cycler>=0.10 in /usr/local/lib/python3.10/dist-packages (from matplotlib>=1.4.0->scikit-plot) (0.12.1)\n",
            "Requirement already satisfied: fonttools>=4.22.0 in /usr/local/lib/python3.10/dist-packages (from matplotlib>=1.4.0->scikit-plot) (4.44.3)\n",
            "Requirement already satisfied: kiwisolver>=1.0.1 in /usr/local/lib/python3.10/dist-packages (from matplotlib>=1.4.0->scikit-plot) (1.4.5)\n",
            "Requirement already satisfied: numpy>=1.20 in /usr/local/lib/python3.10/dist-packages (from matplotlib>=1.4.0->scikit-plot) (1.23.5)\n",
            "Requirement already satisfied: packaging>=20.0 in /usr/local/lib/python3.10/dist-packages (from matplotlib>=1.4.0->scikit-plot) (23.2)\n",
            "Requirement already satisfied: pillow>=6.2.0 in /usr/local/lib/python3.10/dist-packages (from matplotlib>=1.4.0->scikit-plot) (9.4.0)\n",
            "Requirement already satisfied: pyparsing>=2.3.1 in /usr/local/lib/python3.10/dist-packages (from matplotlib>=1.4.0->scikit-plot) (3.1.1)\n",
            "Requirement already satisfied: python-dateutil>=2.7 in /usr/local/lib/python3.10/dist-packages (from matplotlib>=1.4.0->scikit-plot) (2.8.2)\n",
            "Requirement already satisfied: threadpoolctl>=2.0.0 in /usr/local/lib/python3.10/dist-packages (from scikit-learn>=0.18->scikit-plot) (3.2.0)\n",
            "Requirement already satisfied: six>=1.5 in /usr/local/lib/python3.10/dist-packages (from python-dateutil>=2.7->matplotlib>=1.4.0->scikit-plot) (1.16.0)\n",
            "Installing collected packages: scikit-plot\n",
            "Successfully installed scikit-plot-0.3.7\n",
            "Accuracy: 0.795\n",
            "Balanced Acc.: 0.7957393483709273\n"
          ]
        },
        {
          "output_type": "display_data",
          "data": {
            "text/plain": [
              "<Figure size 640x480 with 2 Axes>"
            ],
            "image/png": "[encoded data removed]"
          },
          "metadata": {}
        }
      ]
    },
    {
      "cell_type": "markdown",
      "metadata": {
        "id": "Ivf0YsUO7EDs"
      },
      "source": [
        "## Label a new review using the logistic regression model"
      ]
    },
    {
      "cell_type": "code",
      "metadata": {
        "id": "M-4sPSyh6CcF",
        "colab": {
          "base_uri": "https://localhost:8080/"
        },
        "outputId": "4487e4fc-bd67-4ed2-dae2-99f5c9dba0b4"
      },
      "source": [
        "# label a new review using our model\n",
        "new_review= ['food can be better']\n",
        "#process new review into doc-term matrix\n",
        "X_new=tfidf.transform(new_review)\n",
        "X_new"
      ],
      "execution_count": 12,
      "outputs": [
        {
          "output_type": "execute_result",
          "data": {
            "text/plain": [
              "<1x1820 sparse matrix of type '<class 'numpy.float64'>'\n",
              "\twith 2 stored elements in Compressed Sparse Row format>"
            ]
          },
          "metadata": {},
          "execution_count": 12
        }
      ]
    },
    {
      "cell_type": "code",
      "metadata": {
        "id": "e4ZSdBMf6ntF",
        "colab": {
          "base_uri": "https://localhost:8080/"
        },
        "outputId": "3dffbbf5-55cc-4e79-d071-e4cff9d24ffd"
      },
      "source": [
        "print(model_LogReg.predict_proba(X_new)) #predict class probabilities\n",
        "print(model_LogReg.predict(X_new)) #predict outcome class"
      ],
      "execution_count": 13,
      "outputs": [
        {
          "output_type": "stream",
          "name": "stdout",
          "text": [
            "[[0.59621978 0.40378022]]\n",
            "[0]\n"
          ]
        }
      ]
    },
    {
      "cell_type": "markdown",
      "metadata": {
        "id": "xL_NkzkZ8EOD"
      },
      "source": [
        "### Question 3\n",
        "Does the model label the new input as negative or positive?\n",
        "\n",
        "the model label the new input as negative.\n",
        "\n"
      ]
    },
    {
      "cell_type": "markdown",
      "metadata": {
        "id": "Dm2rUUlsKOPl"
      },
      "source": [
        "# Sentiment analysis using word embeddings and RNNs (LSTM/GRU)\n"
      ]
    },
    {
      "cell_type": "code",
      "metadata": {
        "id": "3S2vPhiTjhjw"
      },
      "source": [
        "import tensorflow.keras as tk\n",
        "from tensorflow.keras.layers import Embedding, Dense, Dropout, LSTM, GRU, Bidirectional,RNN\n",
        "#tk.__version__"
      ],
      "execution_count": 15,
      "outputs": []
    },
    {
      "cell_type": "markdown",
      "metadata": {
        "id": "YJrxMa5DQrv0"
      },
      "source": [
        "## Preprocessing text data for RNN\n",
        "To use Recurrent neural network architectures for text classification, we need to pre-process text data little differently from what we did above.\n",
        "* We create a vocabulary by tokenizing all document in our corpus.\n",
        "* Then, we sequence each document into integer-tokens using the derived vocabulary.\n",
        "* To correctly feed each document input to the RNN, each sequenced document has to have the same length. Therefore, we pad/truncate documents.\n",
        "* We use an embedding layer to convert the integer-vectors into real-valued vectors (more details in section below)\n",
        "* The output of the embedding layer is fed into our Recurrent NN\n"
      ]
    },
    {
      "cell_type": "code",
      "metadata": {
        "id": "0JdGvtbuo5U8"
      },
      "source": [
        "from tensorflow.keras.preprocessing.text import Tokenizer #removes punctuations and lower-cases all words before tokenizing\n",
        "from tensorflow.keras.preprocessing.sequence import pad_sequences"
      ],
      "execution_count": 16,
      "outputs": []
    },
    {
      "cell_type": "markdown",
      "metadata": {
        "id": "7xFDoSq5L4PC"
      },
      "source": [
        "### Why am I not using all the pre-processing steps here?!"
      ]
    },
    {
      "cell_type": "code",
      "metadata": {
        "id": "OItIjTRMHczm",
        "colab": {
          "base_uri": "https://localhost:8080/"
        },
        "outputId": "514907af-0fcf-4c0a-cde8-91d18a7c0252"
      },
      "source": [
        "import gensim\n",
        "from gensim.parsing.preprocessing import remove_stopwords,strip_tags,strip_multiple_whitespaces,strip_punctuation\n",
        "import nltk\n",
        "from nltk.stem.wordnet import WordNetLemmatizer\n",
        "nltk.download('wordnet')"
      ],
      "execution_count": 17,
      "outputs": [
        {
          "output_type": "stream",
          "name": "stderr",
          "text": [
            "[nltk_data] Downloading package wordnet to /root/nltk_data...\n"
          ]
        },
        {
          "output_type": "execute_result",
          "data": {
            "text/plain": [
              "True"
            ]
          },
          "metadata": {},
          "execution_count": 17
        }
      ]
    },
    {
      "cell_type": "code",
      "metadata": {
        "id": "aEKLwU4sH01a"
      },
      "source": [
        "tmp=X.apply(strip_multiple_whitespaces)\n",
        "tmp=tmp.apply(str.lower)\n",
        "tmp=tmp.apply(strip_punctuation)"
      ],
      "execution_count": 18,
      "outputs": []
    },
    {
      "cell_type": "code",
      "metadata": {
        "id": "eQ22sr09IPcn",
        "colab": {
          "base_uri": "https://localhost:8080/",
          "height": 35
        },
        "outputId": "6b3c7b17-3a6e-4ac4-e45a-8c6ed350380c"
      },
      "source": [
        "tmp[98]"
      ],
      "execution_count": 19,
      "outputs": [
        {
          "output_type": "execute_result",
          "data": {
            "text/plain": [
              "'it was not good '"
            ],
            "application/vnd.google.colaboratory.intrinsic+json": {
              "type": "string"
            }
          },
          "metadata": {},
          "execution_count": 19
        }
      ]
    },
    {
      "cell_type": "code",
      "metadata": {
        "id": "KINVgnb7JUfX",
        "colab": {
          "base_uri": "https://localhost:8080/",
          "height": 35
        },
        "outputId": "f63de3c1-9eb0-4168-81cb-6524f57fc0fe"
      },
      "source": [
        "tmp.apply(remove_stopwords)[98]\n",
        "#tmp.apply(WordNetLemmatizer().lemmatize)[29]"
      ],
      "execution_count": 20,
      "outputs": [
        {
          "output_type": "execute_result",
          "data": {
            "text/plain": [
              "'good'"
            ],
            "application/vnd.google.colaboratory.intrinsic+json": {
              "type": "string"
            }
          },
          "metadata": {},
          "execution_count": 20
        }
      ]
    },
    {
      "cell_type": "markdown",
      "metadata": {
        "id": "0EIOW-sFULB5"
      },
      "source": [
        "### Tokenizing, sequencing, padding"
      ]
    },
    {
      "cell_type": "code",
      "metadata": {
        "id": "G2WssYKXf-71"
      },
      "source": [
        "# using the tf.keras tokenizer\n",
        "num_words=1800 #number of words to keep in vocabulary, most common words are kept\n",
        "tokenizer = Tokenizer(num_words=num_words)\n",
        "tokenizer.fit_on_texts(X)"
      ],
      "execution_count": 21,
      "outputs": []
    },
    {
      "cell_type": "code",
      "metadata": {
        "id": "s6tSqF4vcflR",
        "colab": {
          "base_uri": "https://localhost:8080/"
        },
        "outputId": "6d2ca463-613e-484e-bf8a-b15ac1a91bb7"
      },
      "source": [
        "len(tokenizer.word_index) # total number of unique words in our corpus\n",
        "#tokenizer.word_index # run to see what integer is assigned to each word after tokenization"
      ],
      "execution_count": 22,
      "outputs": [
        {
          "output_type": "execute_result",
          "data": {
            "text/plain": [
              "2071"
            ]
          },
          "metadata": {},
          "execution_count": 22
        }
      ]
    },
    {
      "cell_type": "code",
      "metadata": {
        "id": "F5LREy5ghXB8"
      },
      "source": [
        "# sequencing our text data (tokenizing based)\n",
        "X_tokens=tokenizer.texts_to_sequences(X)"
      ],
      "execution_count": 23,
      "outputs": []
    },
    {
      "cell_type": "code",
      "metadata": {
        "id": "HhkIerJ3h9GH",
        "colab": {
          "base_uri": "https://localhost:8080/"
        },
        "outputId": "a20c0cdb-6bca-4eb5-ce36-c152c7d0e309"
      },
      "source": [
        "# some values we need for the next step\n",
        "num_tokens= np.array([np.count_nonzero(tokens) for tokens in X_tokens]) #number of tokens in each document\n",
        "max_tokens=max(num_tokens)\n",
        "max_tokens,num_words"
      ],
      "execution_count": 24,
      "outputs": [
        {
          "output_type": "execute_result",
          "data": {
            "text/plain": [
              "(32, 1800)"
            ]
          },
          "metadata": {},
          "execution_count": 24
        }
      ]
    },
    {
      "cell_type": "code",
      "metadata": {
        "id": "qsoypBbCipok",
        "colab": {
          "base_uri": "https://localhost:8080/"
        },
        "outputId": "82475712-8b0f-41bb-b8d2-4ec91ef5b559"
      },
      "source": [
        "# pad the token sequence for each document so that all documents are of equal length\n",
        "X_tokens_pad = pad_sequences(X_tokens, maxlen=max_tokens,\n",
        "                            padding='pre', truncating='pre')\n",
        "X_tokens_pad.shape"
      ],
      "execution_count": 25,
      "outputs": [
        {
          "output_type": "execute_result",
          "data": {
            "text/plain": [
              "(1000, 32)"
            ]
          },
          "metadata": {},
          "execution_count": 25
        }
      ]
    },
    {
      "cell_type": "code",
      "metadata": {
        "id": "3hIEeJqijwpr",
        "colab": {
          "base_uri": "https://localhost:8080/"
        },
        "outputId": "54c07604-e722-4257-c1c0-a5953b26da71"
      },
      "source": [
        "# let's see what happened to a single document at each step\n",
        "print(X[17]) #the textual data\n",
        "print(X_tokens[17]) #the tokenized sequence\n",
        "print(X_tokens_pad[17]) #the padded sequence"
      ],
      "execution_count": 26,
      "outputs": [
        {
          "output_type": "stream",
          "name": "stdout",
          "text": [
            "Waitress was a little slow in service.\n",
            "[203, 4, 5, 168, 153, 14, 17]\n",
            "[  0   0   0   0   0   0   0   0   0   0   0   0   0   0   0   0   0   0\n",
            "   0   0   0   0   0   0   0 203   4   5 168 153  14  17]\n"
          ]
        }
      ]
    },
    {
      "cell_type": "markdown",
      "metadata": {
        "id": "hubATLa7L8-m"
      },
      "source": [
        "## Splitting the processed data into train/test"
      ]
    },
    {
      "cell_type": "code",
      "metadata": {
        "id": "znkaFH4Hy6hR"
      },
      "source": [
        "# split processed data into train/test\n",
        "from sklearn.model_selection import train_test_split\n",
        "X_train, X_test, y_train, y_test = train_test_split(X_tokens_pad, Y, test_size=0.2,random_state=123)"
      ],
      "execution_count": 27,
      "outputs": []
    },
    {
      "cell_type": "code",
      "metadata": {
        "id": "g6pEI0aU1aOl",
        "colab": {
          "base_uri": "https://localhost:8080/"
        },
        "outputId": "b0ad04ca-5a37-4424-9378-999e2c915244"
      },
      "source": [
        "X_train.shape, X_test.shape, y_train.shape"
      ],
      "execution_count": 28,
      "outputs": [
        {
          "output_type": "execute_result",
          "data": {
            "text/plain": [
              "((800, 32), (200, 32), (800,))"
            ]
          },
          "metadata": {},
          "execution_count": 28
        }
      ]
    },
    {
      "cell_type": "markdown",
      "metadata": {
        "id": "3MNHA1Gtpu1s"
      },
      "source": [
        "### Question 4\n",
        "How many words does the longest document in X_train have?\n",
        "\n",
        "How about the longest document in X_test?\n",
        "\n",
        " X train and X test both has 32 words as its longest document."
      ]
    },
    {
      "cell_type": "markdown",
      "metadata": {
        "id": "rr5QFsyzL97u"
      },
      "source": [
        "## Recurrent neural network 1\n",
        "The first layer is an embedding layer that converts the integer-tokens into vector values.\n",
        "This is needed since the integer-tokens (X_tokens) can have values between 0 and 1800 (for our vocabulary of 1800 words), but the RNN cannot work with such wide range. The learned vector values range from -1 to 1.\n",
        "\n",
        "The embedding-layer is trained as part of the RNN and learns to map words with similar meaning to similar embedding vectors. We will try an example below."
      ]
    },
    {
      "cell_type": "code",
      "metadata": {
        "id": "tziRcOnUhGxt",
        "colab": {
          "base_uri": "https://localhost:8080/"
        },
        "outputId": "eacc4a85-7a8a-4f46-e0c5-10fef4a06bc7"
      },
      "source": [
        "embedding_size=16 #size of the embedding vector\n",
        "\n",
        "model_RNN = tk.models.Sequential()\n",
        "\n",
        "model_RNN.add(Embedding(input_dim=num_words,\n",
        "                    output_dim=embedding_size,\n",
        "                    input_length=max_tokens,\n",
        "                    name='layer_embedding'))\n",
        "\n",
        "model_RNN.add(LSTM(units=20,dropout=0.2)) # add an LSTM layer with dropout\n",
        "#model_RNN.add(GRU(units=20,dropout=0.2)) #add a GRU layer\n",
        "\n",
        "# for sequences other than time series, an RNN model can sometimes perform better if it processes a sequence both forwards and backwards.\n",
        "# For example, to predict the next word in a sentence it is useful to have the context around the word.\n",
        "# the Bidirectional wrapper adds such layers.\n",
        "#model_RNN.add(Bidirectional(LSTM(units=16,dropout=0.2)))\n",
        "\n",
        "model_RNN.add(Dropout(0.2)) # add a dropout layer\n",
        "\n",
        "model_RNN.add(Dense(1, activation='sigmoid'))\n",
        "\n",
        "optimizer=tk.optimizers.Adam() # selecting the optimizer\n",
        "\n",
        "# compiling the model\n",
        "model_RNN.compile(loss='binary_crossentropy', #mae,mse\n",
        "              optimizer=optimizer,\n",
        "              metrics=['accuracy'])\n",
        "\n",
        "model_RNN.summary() # model overview"
      ],
      "execution_count": 29,
      "outputs": [
        {
          "output_type": "stream",
          "name": "stdout",
          "text": [
            "Model: \"sequential\"\n",
            "_________________________________________________________________\n",
            " Layer (type)                Output Shape              Param #   \n",
            "=================================================================\n",
            " layer_embedding (Embedding  (None, 32, 16)            28800     \n",
            " )                                                               \n",
            "                                                                 \n",
            " lstm (LSTM)                 (None, 20)                2960      \n",
            "                                                                 \n",
            " dropout (Dropout)           (None, 20)                0         \n",
            "                                                                 \n",
            " dense (Dense)               (None, 1)                 21        \n",
            "                                                                 \n",
            "=================================================================\n",
            "Total params: 31781 (124.14 KB)\n",
            "Trainable params: 31781 (124.14 KB)\n",
            "Non-trainable params: 0 (0.00 Byte)\n",
            "_________________________________________________________________\n"
          ]
        }
      ]
    },
    {
      "cell_type": "code",
      "metadata": {
        "id": "mqIdUEMOguSc",
        "colab": {
          "base_uri": "https://localhost:8080/"
        },
        "outputId": "979fec1b-6a64-4e7d-fa78-026d6c45faf1"
      },
      "source": [
        "# make sure the input data can be feed to the RNN\n",
        "model_RNN.predict(X_train[:3])"
      ],
      "execution_count": 30,
      "outputs": [
        {
          "output_type": "stream",
          "name": "stdout",
          "text": [
            "1/1 [==============================] - 1s 609ms/step\n"
          ]
        },
        {
          "output_type": "execute_result",
          "data": {
            "text/plain": [
              "array([[0.5004217],\n",
              "       [0.5021633],\n",
              "       [0.5038497]], dtype=float32)"
            ]
          },
          "metadata": {},
          "execution_count": 30
        }
      ]
    },
    {
      "cell_type": "code",
      "metadata": {
        "id": "LLdwnUXuir5Q",
        "colab": {
          "base_uri": "https://localhost:8080/"
        },
        "outputId": "8d68270e-8cf5-4781-a089-96ce2617bf9f"
      },
      "source": [
        "# train the RNN model\n",
        "# train and test sets: using all data in train set for learning and test set for validation\n",
        "history = model_RNN.fit(X_train, y_train, validation_data=(X_test, y_test),epochs=10, verbose=1)\n",
        "# train, validate, test sets: further splitting training set into train/validation\n",
        "#history = model_RNN.fit(X_train, y_train,validation_split=0.2,epochs=10, verbose=1)"
      ],
      "execution_count": 31,
      "outputs": [
        {
          "output_type": "stream",
          "name": "stdout",
          "text": [
            "Epoch 1/10\n",
            "25/25 [==============================] - 4s 57ms/step - loss: 0.6932 - accuracy: 0.4925 - val_loss: 0.6918 - val_accuracy: 0.5750\n",
            "Epoch 2/10\n",
            "25/25 [==============================] - 1s 22ms/step - loss: 0.6865 - accuracy: 0.7375 - val_loss: 0.6869 - val_accuracy: 0.6800\n",
            "Epoch 3/10\n",
            "25/25 [==============================] - 1s 22ms/step - loss: 0.6682 - accuracy: 0.7887 - val_loss: 0.6648 - val_accuracy: 0.7250\n",
            "Epoch 4/10\n",
            "25/25 [==============================] - 1s 20ms/step - loss: 0.5939 - accuracy: 0.7912 - val_loss: 0.5735 - val_accuracy: 0.7250\n",
            "Epoch 5/10\n",
            "25/25 [==============================] - 0s 15ms/step - loss: 0.4471 - accuracy: 0.8500 - val_loss: 0.4679 - val_accuracy: 0.7850\n",
            "Epoch 6/10\n",
            "25/25 [==============================] - 0s 16ms/step - loss: 0.3268 - accuracy: 0.9050 - val_loss: 0.4243 - val_accuracy: 0.7950\n",
            "Epoch 7/10\n",
            "25/25 [==============================] - 0s 15ms/step - loss: 0.2290 - accuracy: 0.9262 - val_loss: 0.4047 - val_accuracy: 0.8100\n",
            "Epoch 8/10\n",
            "25/25 [==============================] - 0s 14ms/step - loss: 0.1639 - accuracy: 0.9538 - val_loss: 0.3912 - val_accuracy: 0.8100\n",
            "Epoch 9/10\n",
            "25/25 [==============================] - 0s 15ms/step - loss: 0.1256 - accuracy: 0.9663 - val_loss: 0.4197 - val_accuracy: 0.8200\n",
            "Epoch 10/10\n",
            "25/25 [==============================] - 0s 15ms/step - loss: 0.0980 - accuracy: 0.9712 - val_loss: 0.4439 - val_accuracy: 0.7900\n"
          ]
        }
      ]
    },
    {
      "cell_type": "code",
      "metadata": {
        "id": "YHd2104wBZ1r",
        "colab": {
          "base_uri": "https://localhost:8080/",
          "height": 472
        },
        "outputId": "557fb64c-7df5-4e60-8a66-78e575885f7c"
      },
      "source": [
        "# plot training and validation accuracy\n",
        "import matplotlib.pyplot as plt\n",
        "plt.plot(history.history['accuracy'],label=\"training\")\n",
        "plt.plot(history.history['val_accuracy'],label=\"validation\")\n",
        "plt.xlabel(\"epoch\")\n",
        "plt.title('Accuracy')\n",
        "plt.legend()\n",
        "plt.show()"
      ],
      "execution_count": 32,
      "outputs": [
        {
          "output_type": "display_data",
          "data": {
            "text/plain": [
              "<Figure size 640x480 with 1 Axes>"
            ],
            "image/png": "[encoded data removed]"
          },
          "metadata": {}
        }
      ]
    },
    {
      "cell_type": "code",
      "metadata": {
        "id": "KVTf7dL-_O4X",
        "colab": {
          "base_uri": "https://localhost:8080/",
          "height": 472
        },
        "outputId": "1e311d5b-feda-4c88-e286-60da5258e93c"
      },
      "source": [
        "# plot training and validation loss\n",
        "import matplotlib.pyplot as plt\n",
        "plt.plot(history.history['loss'],label=\"training\")\n",
        "plt.plot(history.history['val_loss'],label=\"validation\")\n",
        "plt.xlabel(\"epoch\")\n",
        "plt.title('Loss')\n",
        "plt.legend()\n",
        "plt.show()"
      ],
      "execution_count": 33,
      "outputs": [
        {
          "output_type": "display_data",
          "data": {
            "text/plain": [
              "<Figure size 640x480 with 1 Axes>"
            ],
            "image/png": "[encoded data removed]"
          },
          "metadata": {}
        }
      ]
    },
    {
      "cell_type": "markdown",
      "metadata": {
        "id": "7HTVJB1aDVKA"
      },
      "source": [
        "## Evaluate the RNN model"
      ]
    },
    {
      "cell_type": "code",
      "metadata": {
        "id": "Qs1i2DLRCzTQ",
        "colab": {
          "base_uri": "https://localhost:8080/",
          "height": 524
        },
        "outputId": "e91c3986-5d32-455f-b2f8-128220d9d716"
      },
      "source": [
        "y_pred=(model_RNN.predict(X_test)>0.5).astype('int32')\n",
        "\n",
        "import scikitplot as skplt\n",
        "skplt.metrics.plot_confusion_matrix(y_test, y_pred)\n",
        "\n",
        "from sklearn import metrics\n",
        "print(\"Accuracy:\",metrics.accuracy_score(y_test, y_pred)), #Accuracy\n",
        "print(\"Balanced Acc.:\",metrics.balanced_accuracy_score(y_test, y_pred))"
      ],
      "execution_count": 34,
      "outputs": [
        {
          "output_type": "stream",
          "name": "stdout",
          "text": [
            "7/7 [==============================] - 0s 4ms/step\n",
            "Accuracy: 0.79\n",
            "Balanced Acc.: 0.7939849624060151\n"
          ]
        },
        {
          "output_type": "display_data",
          "data": {
            "text/plain": [
              "<Figure size 640x480 with 2 Axes>"
            ],
            "image/png": "[encoded data removed]"
          },
          "metadata": {}
        }
      ]
    },
    {
      "cell_type": "markdown",
      "metadata": {
        "id": "snuvwlVhq7sA"
      },
      "source": [
        "### Question 5\n",
        "Would using more training-epochs improve performance? you can retrain the model to verify.\n",
        "\n"
      ]
    },
    {
      "cell_type": "markdown",
      "source": [
        "no, using more training-epochs doesnot improve performance.\n"
      ],
      "metadata": {
        "id": "0xZj_FY0PsM8"
      }
    },
    {
      "cell_type": "markdown",
      "metadata": {
        "id": "_4cU8lf1j_hL"
      },
      "source": [
        "### Question 6\n",
        "Is the model overfitting the training data?\n"
      ]
    },
    {
      "cell_type": "markdown",
      "source": [
        "No"
      ],
      "metadata": {
        "id": "K-hscx4uPtUi"
      }
    },
    {
      "cell_type": "markdown",
      "metadata": {
        "id": "VrODDEg3tYH2"
      },
      "source": [
        "### Question 7\n",
        "Change the LSTM layer to a GRU layer. Does the RNN with GRU units have a better performance?"
      ]
    },
    {
      "cell_type": "markdown",
      "source": [
        "\n",
        "By changing the LSTM layer to a GRU layer, we can see that both performed equally."
      ],
      "metadata": {
        "id": "Ff93QN7sP4nd"
      }
    },
    {
      "cell_type": "markdown",
      "metadata": {
        "id": "u_E2JInLkj8L"
      },
      "source": [
        "### Question 8\n",
        "Would the model overfit the data if we did not include the dropout layer and dropout inside the LSTM/GRU units? you can change the network architecture and retrain it to verify.\n",
        "\n"
      ]
    },
    {
      "cell_type": "markdown",
      "source": [
        "\n",
        "The model doesnot overfit the data if we did not include the dropout layer and dropout inside the LSTM/GRU units\n",
        "\n"
      ],
      "metadata": {
        "id": "rJftx0iaSWI-"
      }
    },
    {
      "cell_type": "markdown",
      "metadata": {
        "id": "kzTiNANUk4o2"
      },
      "source": [
        "### Question 9 (optional)\n",
        "Increase the size of the embedding-vectors to 64 (from 16). Does it affect model performance?\n",
        "\n",
        "The model's performance is enhanced by increasing the size of the embedding-vectors to 64 from 16.\n"
      ]
    },
    {
      "cell_type": "markdown",
      "metadata": {
        "id": "ru16mYTmk4CP"
      },
      "source": [
        "### Question 10\n",
        "Decrease the number of words in the vocabulary from 2000 to 1500. Does it affect performance?\n",
        "\n",
        "*Go to the \"Tokenizing, sequencing, padding\" section to re-initialize the tokenizer and rerun subsequent steps.*\n",
        "\n",
        "\n"
      ]
    },
    {
      "cell_type": "markdown",
      "source": [
        "\n",
        "The performance is not affected by decreasing the number of words in the vocabulary from 2000 to 1500."
      ],
      "metadata": {
        "id": "_S_g_phtS0nn"
      }
    },
    {
      "cell_type": "markdown",
      "metadata": {
        "id": "3rjHMTv0l4i0"
      },
      "source": [
        "### Question 11\n",
        "Use 'post' for padding and truncating the sequenced tokens in pad_sequences() (*Go to the \"Tokenizing, sequencing, padding\" section and rerun subsequent steps*). Does it affect model performance?"
      ]
    },
    {
      "cell_type": "markdown",
      "source": [
        "\n",
        "The performance is not affected after using 'post' for padding and truncating the sequenced tokens in pad_sequences()."
      ],
      "metadata": {
        "id": "kGJ0PL7KS9Cx"
      }
    },
    {
      "cell_type": "markdown",
      "metadata": {
        "id": "obcJUde6ai2G"
      },
      "source": [
        "## Classify a new review using the RNN"
      ]
    },
    {
      "cell_type": "code",
      "metadata": {
        "id": "-E5KDBSvao0W",
        "colab": {
          "base_uri": "https://localhost:8080/"
        },
        "outputId": "278a9b8d-fae2-4c97-8702-23dc8abb10c9"
      },
      "source": [
        "new_review= ['food can be better']\n",
        "new_sequence=tokenizer.texts_to_sequences(new_review) # tokenize and sequence\n",
        "new_seq_pad=pad_sequences(new_sequence, maxlen=max_tokens,padding='pre') # pad it\n",
        "new_seq_pad"
      ],
      "execution_count": 35,
      "outputs": [
        {
          "output_type": "execute_result",
          "data": {
            "text/plain": [
              "array([[  0,   0,   0,   0,   0,   0,   0,   0,   0,   0,   0,   0,   0,\n",
              "          0,   0,   0,   0,   0,   0,   0,   0,   0,   0,   0,   0,   0,\n",
              "          0,   0,  11, 120,  25, 108]], dtype=int32)"
            ]
          },
          "metadata": {},
          "execution_count": 35
        }
      ]
    },
    {
      "cell_type": "code",
      "metadata": {
        "id": "pPw4g6CebPQj",
        "colab": {
          "base_uri": "https://localhost:8080/"
        },
        "outputId": "34bcfc13-8dd4-4e12-fada-ca85c85962c6"
      },
      "source": [
        "model_RNN.predict(new_seq_pad) # predict probability\n",
        "#np.argmax(model_RNN.predict(X),axis=-1) #for multiclass outcomes\n",
        "(model_RNN.predict(new_seq_pad)>0.5).astype('int32') #for binary outcomes"
      ],
      "execution_count": 36,
      "outputs": [
        {
          "output_type": "stream",
          "name": "stdout",
          "text": [
            "1/1 [==============================] - 0s 24ms/step\n",
            "1/1 [==============================] - 0s 22ms/step\n"
          ]
        },
        {
          "output_type": "execute_result",
          "data": {
            "text/plain": [
              "array([[0]], dtype=int32)"
            ]
          },
          "metadata": {},
          "execution_count": 36
        }
      ]
    },
    {
      "cell_type": "markdown",
      "metadata": {
        "id": "cwohWWkYJIEG"
      },
      "source": [
        "## Extracing word embeddings\n",
        "Earlier we mentioned word embeddings and that we have an embedding layer which learns how to map words (in the form of integer-tokens) to vectors as we train the neural network.\n",
        "\n",
        "The distance between two word vectors indicate their similarity and we can derive these vectors for any word in our vocabulary from the embedding layer.\n",
        "\n",
        "We will use the cosine distance between two words. Cosine values can range from [-1,1], so the distance can range from 0 to 2 (in our complex vector space):\n",
        "* close to 0: two words have the same meaning\n",
        "* close to 2: two words are antonyms\n",
        "\n",
        "For more details on cosine similarity, see https://en.wikipedia.org/wiki/Cosine_similarity"
      ]
    },
    {
      "cell_type": "code",
      "metadata": {
        "id": "kMH4ojV8SS_7",
        "colab": {
          "base_uri": "https://localhost:8080/"
        },
        "outputId": "0dda2335-a499-4bf4-b014-ddfd30869ed8"
      },
      "source": [
        "# extract the embedding layer from the RNN architecture\n",
        "embedding_weights=model_RNN.get_layer('layer_embedding').get_weights()[0]\n",
        "\n",
        "# vector for a word in our vocabulary\n",
        "print(tokenizer.word_index['food']) # integer for word in our vocabulary\n",
        "# word vector representation as learned in the embedding layer\n",
        "embedding_weights[tokenizer.word_index['food']]"
      ],
      "execution_count": 37,
      "outputs": [
        {
          "output_type": "stream",
          "name": "stdout",
          "text": [
            "11\n"
          ]
        },
        {
          "output_type": "execute_result",
          "data": {
            "text/plain": [
              "array([-0.00388056, -0.01609249, -0.00860335,  0.04186661,  0.03769374,\n",
              "        0.03719554, -0.01984125, -0.02832016,  0.05273375, -0.01438064,\n",
              "        0.02498565,  0.01127098,  0.02416843,  0.03949272,  0.00906292,\n",
              "       -0.01367052], dtype=float32)"
            ]
          },
          "metadata": {},
          "execution_count": 37
        }
      ]
    },
    {
      "cell_type": "code",
      "metadata": {
        "id": "Ik9DQ0fzeT6D",
        "colab": {
          "base_uri": "https://localhost:8080/"
        },
        "outputId": "e8f9cc48-377a-42c7-e8b9-6a3ab4babd0a"
      },
      "source": [
        "# let's calculate distance between any two words in our vocabulary\n",
        "from scipy.spatial.distance import cdist\n",
        "float(cdist([embedding_weights[tokenizer.word_index['delicious']]],\n",
        "            [embedding_weights[tokenizer.word_index['bad']]],\n",
        "            metric='cosine'))"
      ],
      "execution_count": 38,
      "outputs": [
        {
          "output_type": "execute_result",
          "data": {
            "text/plain": [
              "1.9266016055973123"
            ]
          },
          "metadata": {},
          "execution_count": 38
        }
      ]
    },
    {
      "cell_type": "markdown",
      "metadata": {
        "id": "AE94zsaIguY8"
      },
      "source": [
        "### Question 12\n",
        "How close are the words *spaghetti* and *pizza* based on the word-vectors learned in our embedding layer?"
      ]
    },
    {
      "cell_type": "code",
      "source": [
        "# let's calculate distance between any two words in our vocabulary\n",
        "from scipy.spatial.distance import cdist\n",
        "float(cdist([embedding_weights[tokenizer.word_index['spaghetti']]],\n",
        "            [embedding_weights[tokenizer.word_index['pizza']]],\n",
        "            metric='cosine'))"
      ],
      "metadata": {
        "colab": {
          "base_uri": "https://localhost:8080/"
        },
        "id": "5e9uBwOkTOaw",
        "outputId": "be643dd1-7cc5-44cf-a88b-ff9c84e5cbc1"
      },
      "execution_count": 39,
      "outputs": [
        {
          "output_type": "execute_result",
          "data": {
            "text/plain": [
              "0.2584534181106134"
            ]
          },
          "metadata": {},
          "execution_count": 39
        }
      ]
    },
    {
      "cell_type": "markdown",
      "source": [
        "The distance between the words spaghetti and pizza is 0.2017 based on the word-vectors learned in our embedding layer."
      ],
      "metadata": {
        "id": "6wOM-EWrTUAM"
      }
    },
    {
      "cell_type": "markdown",
      "metadata": {
        "id": "K9NxAn7NoQ53"
      },
      "source": [
        "### Question 13\n",
        "Is the word *delicious* more similar in meaning to *good* or *bad*?"
      ]
    },
    {
      "cell_type": "code",
      "source": [
        "# let's calculate distance between any two words in our vocabulary\n",
        "from scipy.spatial.distance import cdist\n",
        "float(cdist([embedding_weights[tokenizer.word_index['delicious']]],\n",
        "            [embedding_weights[tokenizer.word_index['good']]],\n",
        "            metric='cosine'))"
      ],
      "metadata": {
        "colab": {
          "base_uri": "https://localhost:8080/"
        },
        "id": "vucx7vsEDCU1",
        "outputId": "722da0d0-e060-491f-d483-9a36cb49c616"
      },
      "execution_count": 40,
      "outputs": [
        {
          "output_type": "execute_result",
          "data": {
            "text/plain": [
              "0.03945280617605462"
            ]
          },
          "metadata": {},
          "execution_count": 40
        }
      ]
    },
    {
      "cell_type": "code",
      "source": [
        "# let's calculate distance between any two words in our vocabulary\n",
        "from scipy.spatial.distance import cdist\n",
        "float(cdist([embedding_weights[tokenizer.word_index['delicious']]],\n",
        "            [embedding_weights[tokenizer.word_index['bad']]],\n",
        "            metric='cosine'))"
      ],
      "metadata": {
        "colab": {
          "base_uri": "https://localhost:8080/"
        },
        "id": "3gp4-DZ1DJLu",
        "outputId": "bc6fea35-af17-426a-8b48-b165d019cdbc"
      },
      "execution_count": 41,
      "outputs": [
        {
          "output_type": "execute_result",
          "data": {
            "text/plain": [
              "1.9266016055973123"
            ]
          },
          "metadata": {},
          "execution_count": 41
        }
      ]
    },
    {
      "cell_type": "markdown",
      "source": [
        "The word delicious is more similar in meaning to good."
      ],
      "metadata": {
        "id": "EyfRw1qdTuXx"
      }
    },
    {
      "cell_type": "markdown",
      "metadata": {
        "id": "OjDoriOIWKip"
      },
      "source": [
        "## Recurrent Neural Network 2\n",
        "\n",
        "Let's try another architecture 3 LSTM layers (i.e., deep RNN) and see if it has a better predictive performance."
      ]
    },
    {
      "cell_type": "code",
      "metadata": {
        "id": "JBCfRWHPWLXY",
        "colab": {
          "base_uri": "https://localhost:8080/"
        },
        "outputId": "1ea3062d-5c2d-40dd-c681-869b08896503"
      },
      "source": [
        "embedding_size=16 #size of the embedding vector\n",
        "\n",
        "model_2 = tk.models.Sequential()\n",
        "\n",
        "model_2.add(Embedding(input_dim=num_words,\n",
        "                    output_dim=embedding_size,\n",
        "                    input_length=max_tokens,\n",
        "                    name='layer_embedding'))\n",
        "\n",
        "model_2.add(LSTM(units=32, return_sequences=True,dropout=0.2))\n",
        "model_2.add(Dropout(0.2))\n",
        "\n",
        "model_2.add(LSTM(units=16, return_sequences=True,dropout=0.2))\n",
        "model_2.add(Dropout(0.2))\n",
        "\n",
        "model_2.add(LSTM(units=8,dropout=0.2))\n",
        "model_2.add(Dropout(0.2))\n",
        "\n",
        "model_2.add(Dense(1, activation='sigmoid')) # use softmax  for multiclass outcomes\n",
        "\n",
        "optimizer=tk.optimizers.Adam() # selecting the optimizer\n",
        "\n",
        "# compiling the model\n",
        "model_2.compile(loss='binary_crossentropy',\n",
        "              optimizer=optimizer,\n",
        "              metrics=['accuracy'])\n",
        "# for multiclass outcomes use categorical_crossentropy or sparse_categorical_crossentropy\n",
        "# categorical_crossentropy, when outcomes are one-hot encoded\n",
        "# sparse_categorical_crossentropy, when outcomes are labeled as integers\n",
        "\n",
        "model_2.summary()"
      ],
      "execution_count": 42,
      "outputs": [
        {
          "output_type": "stream",
          "name": "stdout",
          "text": [
            "Model: \"sequential_1\"\n",
            "_________________________________________________________________\n",
            " Layer (type)                Output Shape              Param #   \n",
            "=================================================================\n",
            " layer_embedding (Embedding  (None, 32, 16)            28800     \n",
            " )                                                               \n",
            "                                                                 \n",
            " lstm_1 (LSTM)               (None, 32, 32)            6272      \n",
            "                                                                 \n",
            " dropout_1 (Dropout)         (None, 32, 32)            0         \n",
            "                                                                 \n",
            " lstm_2 (LSTM)               (None, 32, 16)            3136      \n",
            "                                                                 \n",
            " dropout_2 (Dropout)         (None, 32, 16)            0         \n",
            "                                                                 \n",
            " lstm_3 (LSTM)               (None, 8)                 800       \n",
            "                                                                 \n",
            " dropout_3 (Dropout)         (None, 8)                 0         \n",
            "                                                                 \n",
            " dense_1 (Dense)             (None, 1)                 9         \n",
            "                                                                 \n",
            "=================================================================\n",
            "Total params: 39017 (152.41 KB)\n",
            "Trainable params: 39017 (152.41 KB)\n",
            "Non-trainable params: 0 (0.00 Byte)\n",
            "_________________________________________________________________\n"
          ]
        }
      ]
    },
    {
      "cell_type": "code",
      "metadata": {
        "id": "llJqVjK9maBm",
        "colab": {
          "base_uri": "https://localhost:8080/"
        },
        "outputId": "81eef306-f9e0-4613-9b78-2bae34bf9d76"
      },
      "source": [
        "# fit/train the model\n",
        "history2 = model_2.fit(X_train, y_train,validation_split=0.2,epochs=30, verbose=1)\n",
        "#history2 = model_2.fit(X_train, y_train,validation_data=(X_test, y_test),epochs=30, verbose=1)"
      ],
      "execution_count": 43,
      "outputs": [
        {
          "output_type": "stream",
          "name": "stdout",
          "text": [
            "Epoch 1/30\n",
            "20/20 [==============================] - 7s 128ms/step - loss: 0.6939 - accuracy: 0.5109 - val_loss: 0.6945 - val_accuracy: 0.4812\n",
            "Epoch 2/30\n",
            "20/20 [==============================] - 1s 53ms/step - loss: 0.6905 - accuracy: 0.5422 - val_loss: 0.6920 - val_accuracy: 0.5500\n",
            "Epoch 3/30\n",
            "20/20 [==============================] - 1s 52ms/step - loss: 0.6866 - accuracy: 0.5906 - val_loss: 0.6889 - val_accuracy: 0.5437\n",
            "Epoch 4/30\n",
            "20/20 [==============================] - 1s 51ms/step - loss: 0.6637 - accuracy: 0.6484 - val_loss: 0.6739 - val_accuracy: 0.5625\n",
            "Epoch 5/30\n",
            "20/20 [==============================] - 1s 35ms/step - loss: 0.5902 - accuracy: 0.7094 - val_loss: 0.6652 - val_accuracy: 0.6000\n",
            "Epoch 6/30\n",
            "20/20 [==============================] - 1s 35ms/step - loss: 0.4893 - accuracy: 0.7844 - val_loss: 0.6922 - val_accuracy: 0.6438\n",
            "Epoch 7/30\n",
            "20/20 [==============================] - 1s 34ms/step - loss: 0.4228 - accuracy: 0.8219 - val_loss: 0.6985 - val_accuracy: 0.6562\n",
            "Epoch 8/30\n",
            "20/20 [==============================] - 1s 36ms/step - loss: 0.3180 - accuracy: 0.8938 - val_loss: 0.6962 - val_accuracy: 0.6938\n",
            "Epoch 9/30\n",
            "20/20 [==============================] - 1s 35ms/step - loss: 0.2501 - accuracy: 0.9172 - val_loss: 0.7270 - val_accuracy: 0.6875\n",
            "Epoch 10/30\n",
            "20/20 [==============================] - 1s 35ms/step - loss: 0.2125 - accuracy: 0.9234 - val_loss: 0.7347 - val_accuracy: 0.6750\n",
            "Epoch 11/30\n",
            "20/20 [==============================] - 1s 35ms/step - loss: 0.1504 - accuracy: 0.9625 - val_loss: 0.8403 - val_accuracy: 0.6625\n",
            "Epoch 12/30\n",
            "20/20 [==============================] - 1s 39ms/step - loss: 0.1429 - accuracy: 0.9594 - val_loss: 0.8284 - val_accuracy: 0.6562\n",
            "Epoch 13/30\n",
            "20/20 [==============================] - 1s 35ms/step - loss: 0.1030 - accuracy: 0.9688 - val_loss: 0.9255 - val_accuracy: 0.6938\n",
            "Epoch 14/30\n",
            "20/20 [==============================] - 1s 35ms/step - loss: 0.0946 - accuracy: 0.9766 - val_loss: 0.8821 - val_accuracy: 0.6812\n",
            "Epoch 15/30\n",
            "20/20 [==============================] - 1s 35ms/step - loss: 0.0727 - accuracy: 0.9828 - val_loss: 1.0145 - val_accuracy: 0.6812\n",
            "Epoch 16/30\n",
            "20/20 [==============================] - 1s 34ms/step - loss: 0.0720 - accuracy: 0.9828 - val_loss: 0.9900 - val_accuracy: 0.6625\n",
            "Epoch 17/30\n",
            "20/20 [==============================] - 1s 35ms/step - loss: 0.0681 - accuracy: 0.9812 - val_loss: 1.0442 - val_accuracy: 0.6812\n",
            "Epoch 18/30\n",
            "20/20 [==============================] - 1s 36ms/step - loss: 0.0499 - accuracy: 0.9859 - val_loss: 1.0754 - val_accuracy: 0.6875\n",
            "Epoch 19/30\n",
            "20/20 [==============================] - 1s 54ms/step - loss: 0.0428 - accuracy: 0.9953 - val_loss: 1.1323 - val_accuracy: 0.6938\n",
            "Epoch 20/30\n",
            "20/20 [==============================] - 1s 52ms/step - loss: 0.0382 - accuracy: 0.9937 - val_loss: 1.0743 - val_accuracy: 0.7125\n",
            "Epoch 21/30\n",
            "20/20 [==============================] - 1s 59ms/step - loss: 0.0410 - accuracy: 0.9937 - val_loss: 0.9904 - val_accuracy: 0.7250\n",
            "Epoch 22/30\n",
            "20/20 [==============================] - 1s 56ms/step - loss: 0.0411 - accuracy: 0.9891 - val_loss: 1.1653 - val_accuracy: 0.7000\n",
            "Epoch 23/30\n",
            "20/20 [==============================] - 1s 41ms/step - loss: 0.0433 - accuracy: 0.9906 - val_loss: 1.2639 - val_accuracy: 0.6938\n",
            "Epoch 24/30\n",
            "20/20 [==============================] - 1s 34ms/step - loss: 0.0262 - accuracy: 0.9969 - val_loss: 1.2155 - val_accuracy: 0.6938\n",
            "Epoch 25/30\n",
            "20/20 [==============================] - 1s 36ms/step - loss: 0.0274 - accuracy: 0.9953 - val_loss: 1.2168 - val_accuracy: 0.7000\n",
            "Epoch 26/30\n",
            "20/20 [==============================] - 1s 34ms/step - loss: 0.0263 - accuracy: 0.9984 - val_loss: 1.1965 - val_accuracy: 0.7063\n",
            "Epoch 27/30\n",
            "20/20 [==============================] - 1s 34ms/step - loss: 0.0232 - accuracy: 0.9984 - val_loss: 1.2279 - val_accuracy: 0.7063\n",
            "Epoch 28/30\n",
            "20/20 [==============================] - 1s 34ms/step - loss: 0.0156 - accuracy: 1.0000 - val_loss: 1.3093 - val_accuracy: 0.7000\n",
            "Epoch 29/30\n",
            "20/20 [==============================] - 1s 35ms/step - loss: 0.0201 - accuracy: 0.9969 - val_loss: 1.3705 - val_accuracy: 0.7000\n",
            "Epoch 30/30\n",
            "20/20 [==============================] - 1s 35ms/step - loss: 0.0179 - accuracy: 0.9953 - val_loss: 1.3387 - val_accuracy: 0.7063\n"
          ]
        }
      ]
    },
    {
      "cell_type": "code",
      "metadata": {
        "id": "W2RfyzY5mgmB",
        "colab": {
          "base_uri": "https://localhost:8080/",
          "height": 472
        },
        "outputId": "56fcc6a2-94a1-4266-c094-1c5342b14d58"
      },
      "source": [
        "# plot training and validation accuracy\n",
        "import matplotlib.pyplot as plt\n",
        "plt.plot(history2.history['accuracy'],label=\"training\")\n",
        "plt.plot(history2.history['val_accuracy'],label=\"validation\")\n",
        "plt.xlabel(\"epoch\")\n",
        "plt.title('Accuracy')\n",
        "plt.legend()\n",
        "plt.show()"
      ],
      "execution_count": 44,
      "outputs": [
        {
          "output_type": "display_data",
          "data": {
            "text/plain": [
              "<Figure size 640x480 with 1 Axes>"
            ],
            "image/png": "[encoded data removed]"
          },
          "metadata": {}
        }
      ]
    },
    {
      "cell_type": "code",
      "metadata": {
        "id": "NzFH102ymltY",
        "colab": {
          "base_uri": "https://localhost:8080/",
          "height": 524
        },
        "outputId": "bb32103d-0225-40be-f5d4-f4b692f58fad"
      },
      "source": [
        "# evaluate model performance on test set\n",
        "y_pred=(model_2.predict(X_test)>0.5).astype('int32')\n",
        "\n",
        "import scikitplot as skplt\n",
        "skplt.metrics.plot_confusion_matrix(y_test, y_pred)\n",
        "\n",
        "from sklearn import metrics\n",
        "print(\"Accuracy:\",metrics.accuracy_score(y_test, y_pred)), #Accuracy\n",
        "print(\"Balanced Acc.:\",metrics.balanced_accuracy_score(y_test, y_pred))"
      ],
      "execution_count": 45,
      "outputs": [
        {
          "output_type": "stream",
          "name": "stdout",
          "text": [
            "7/7 [==============================] - 2s 14ms/step\n",
            "Accuracy: 0.77\n",
            "Balanced Acc.: 0.7694235588972431\n"
          ]
        },
        {
          "output_type": "display_data",
          "data": {
            "text/plain": [
              "<Figure size 640x480 with 2 Axes>"
            ],
            "image/png": "[encoded data removed]"
          },
          "metadata": {}
        }
      ]
    },
    {
      "cell_type": "markdown",
      "metadata": {
        "id": "Pv-e2tspnYcS"
      },
      "source": [
        "###Question 14\n",
        "Does the second model have better performance in terms of accuracy?"
      ]
    },
    {
      "cell_type": "markdown",
      "source": [
        "no,the second model does not have better performance in terms of accuracy."
      ],
      "metadata": {
        "id": "ret28UieUGnU"
      }
    }
  ]
}